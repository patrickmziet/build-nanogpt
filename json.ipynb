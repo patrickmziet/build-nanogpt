{
 "cells": [
  {
   "cell_type": "code",
   "execution_count": 2,
   "metadata": {},
   "outputs": [
    {
     "name": "stdout",
     "output_type": "stream",
     "text": [
      "Using device: cpu\n"
     ]
    },
    {
     "name": "stderr",
     "output_type": "stream",
     "text": [
      "/tmp/ipykernel_267942/57045122.py:12: FutureWarning: You are using `torch.load` with `weights_only=False` (the current default value), which uses the default pickle module implicitly. It is possible to construct malicious pickle data which will execute arbitrary code during unpickling (See https://github.com/pytorch/pytorch/blob/main/SECURITY.md#untrusted-models for more details). In a future release, the default value for `weights_only` will be flipped to `True`. This limits the functions that could be executed during unpickling. Arbitrary objects will no longer be allowed to be loaded via this mode unless they are explicitly allowlisted by the user via `torch.serialization.add_safe_globals`. We recommend you start setting `weights_only=True` for any use case where you don't have full control of the loaded file. Please open an issue on GitHub for any issues related to this experimental feature.\n",
      "  checkpoint = torch.load(checkpoint_path, map_location=device)\n"
     ]
    }
   ],
   "source": [
    "import torch\n",
    "import torch.nn.functional as F\n",
    "from gpt_model import GPT, GPTConfig\n",
    "import tiktoken\n",
    "\n",
    "# Force CPU usage\n",
    "device = \"cpu\"\n",
    "print(f\"Using device: {device}\")\n",
    "\n",
    "# Load the model\n",
    "checkpoint_path = \"log124M_10B/model_19072.pt\"\n",
    "checkpoint = torch.load(checkpoint_path, map_location=device)\n",
    "config = checkpoint['config']\n",
    "model = GPT(config)\n",
    "model.load_state_dict(checkpoint['model'])\n",
    "model.to(device)\n",
    "model.eval()\n",
    "\n",
    "# Set up the tokenizer\n",
    "enc = tiktoken.get_encoding(\"gpt2\")"
   ]
  },
  {
   "cell_type": "code",
   "execution_count": 5,
   "metadata": {},
   "outputs": [
    {
     "name": "stdout",
     "output_type": "stream",
     "text": [
      "Generate an example person caled Tom!!!! and output result in the following JSON schema format:\n",
      "{'name': {'type': 'string'}, 'age': {'type': 'number'}}\n",
      "\n"
     ]
    },
    {
     "ename": "TypeError",
     "evalue": "generate_json() got an unexpected keyword argument 'seed'",
     "output_type": "error",
     "traceback": [
      "\u001b[0;31m---------------------------------------------------------------------------\u001b[0m",
      "\u001b[0;31mTypeError\u001b[0m                                 Traceback (most recent call last)",
      "Cell \u001b[0;32mIn[5], line 20\u001b[0m\n\u001b[1;32m     18\u001b[0m prompt_GPT \u001b[39m=\u001b[39m \u001b[39mf\u001b[39m\u001b[39m\"\u001b[39m\u001b[39mGenerate an example person caled Tom!!!! and output result in the following JSON schema format:\u001b[39m\u001b[39m\\n\u001b[39;00m\u001b[39m{\u001b[39;00mschema\u001b[39m}\u001b[39;00m\u001b[39m\\n\u001b[39;00m\u001b[39m\"\u001b[39m\n\u001b[1;32m     19\u001b[0m \u001b[39mprint\u001b[39m(prompt_GPT)\n\u001b[0;32m---> 20\u001b[0m result_GPT \u001b[39m=\u001b[39m generate_json(prompt_GPT, \n\u001b[1;32m     21\u001b[0m                            schema, \n\u001b[1;32m     22\u001b[0m                            model, \n\u001b[1;32m     23\u001b[0m                            enc, \n\u001b[1;32m     24\u001b[0m                            device, \n\u001b[1;32m     25\u001b[0m                            nt, \n\u001b[1;32m     26\u001b[0m                            period_token, \n\u001b[1;32m     27\u001b[0m                            comma_token,\n\u001b[1;32m     28\u001b[0m                            seed\u001b[39m=\u001b[39;49m\u001b[39m0\u001b[39;49m)\n\u001b[1;32m     29\u001b[0m \u001b[39mprint\u001b[39m(result_GPT)\n",
      "\u001b[0;31mTypeError\u001b[0m: generate_json() got an unexpected keyword argument 'seed'"
     ]
    }
   ],
   "source": [
    "import torch\n",
    "import torch.nn.functional as F\n",
    "from gpt_json import generate_json\n",
    "\n",
    "numeric_tokens = [i for i in range(enc.n_vocab) if enc.decode([i]).isdigit()]\n",
    "period_token = enc.encode(\".\")[0]\n",
    "comma_token = enc.encode(\",\")[0]\n",
    "numeric_tokens.append(period_token)\n",
    "numeric_tokens.append(comma_token)\n",
    "nt = torch.tensor(numeric_tokens, dtype=torch.long).unsqueeze(0).to(device)\n",
    "\n",
    "# Example usage:\n",
    "schema = {\n",
    "        \"name\": {\"type\": \"string\"},\n",
    "        \"age\": {\"type\": \"number\"}\n",
    "}\n",
    "\n",
    "prompt_GPT = f\"Generate an example person caled Tom!!!! and output result in the following JSON schema format:\\n{schema}\\n\"\n",
    "print(prompt_GPT)\n",
    "result_GPT = generate_json(prompt_GPT, \n",
    "                           schema, \n",
    "                           model, \n",
    "                           enc, \n",
    "                           device, \n",
    "                           nt, \n",
    "                           period_token, \n",
    "                           comma_token,\n",
    "                           seed=0)\n",
    "print(result_GPT)"
   ]
  },
  {
   "cell_type": "code",
   "execution_count": 4,
   "metadata": {},
   "outputs": [
    {
     "name": "stderr",
     "output_type": "stream",
     "text": [
      "/home/ztkpat001/repos/build-nanogpt/myenv/lib/python3.9/site-packages/tqdm/auto.py:21: TqdmWarning: IProgress not found. Please update jupyter and ipywidgets. See https://ipywidgets.readthedocs.io/en/stable/user_install.html\n",
      "  from .autonotebook import tqdm as notebook_tqdm\n"
     ]
    },
    {
     "name": "stdout",
     "output_type": "stream",
     "text": [
      "Loading model and tokenizer...\n",
      "Loaded model and tokenizer\n",
      "Model is on: cpu\n"
     ]
    },
    {
     "name": "stderr",
     "output_type": "stream",
     "text": [
      "/home/ztkpat001/repos/build-nanogpt/myenv/lib/python3.9/site-packages/transformers/tokenization_utils_base.py:1601: FutureWarning: `clean_up_tokenization_spaces` was not set. It will be set to `True` by default. This behavior will be depracted in transformers v4.45, and will be then set to `False` by default. For more details check this issue: https://github.com/huggingface/transformers/issues/31884\n",
      "  warnings.warn(\n"
     ]
    }
   ],
   "source": [
    "## Test Jsonformer\n",
    "from transformers import AutoModelForCausalLM, AutoTokenizer\n",
    "\n",
    "print(\"Loading model and tokenizer...\")\n",
    "model_name = \"databricks/dolly-v2-3b\"\n",
    "\n",
    "# Specify CPU as the device\n",
    "device = torch.device(\"cpu\")\n",
    "\n",
    "# Load the model to CPU\n",
    "model_json = AutoModelForCausalLM.from_pretrained(\n",
    "    model_name, \n",
    "    use_cache=True, \n",
    "    device_map=\"cpu\",  # This ensures CPU usage\n",
    "    torch_dtype=torch.float32  # Use float32 for CPU\n",
    ")\n",
    "\n",
    "# Explicitly move the model to CPU (though it should already be there)\n",
    "model_json = model_json.to(device)\n",
    "\n",
    "# Load the tokenizer (tokenizer is not affected by device choice)\n",
    "tokenizer = AutoTokenizer.from_pretrained(model_name, use_fast=True, use_cache=True)\n",
    "\n",
    "print(\"Loaded model and tokenizer\")\n",
    "\n",
    "# Verify that the model is on CPU\n",
    "print(f\"Model is on: {next(model_json.parameters()).device}\")"
   ]
  },
  {
   "cell_type": "code",
   "execution_count": 5,
   "metadata": {},
   "outputs": [
    {
     "name": "stderr",
     "output_type": "stream",
     "text": [
      "The attention mask is not set and cannot be inferred from input because pad token is same as eos token. As a consequence, you may observe unexpected behavior. Please pass your input's `attention_mask` to obtain reliable results.\n"
     ]
    },
    {
     "name": "stdout",
     "output_type": "stream",
     "text": [
      "Generating...\n",
      "{\n",
      "  name: \u001b[32m\"John Doe\"\u001b[0m,\n",
      "  age: \u001b[32m30.0\u001b[0m,\n",
      "  is_student: \u001b[32mTrue\u001b[0m\n",
      "}\n"
     ]
    }
   ],
   "source": [
    "from jsonformer.format import highlight_values\n",
    "from jsonformer.main import Jsonformer\n",
    "\n",
    "\n",
    "person = {\n",
    "    \"type\": \"object\",\n",
    "    \"properties\": {\n",
    "        \"name\": {\"type\": \"string\"},\n",
    "        \"age\": {\"type\": \"number\"},\n",
    "        \"is_student\": {\"type\": \"boolean\"},\n",
    "    }\n",
    "}\n",
    "\n",
    "builder = Jsonformer(\n",
    "    model=model_json,\n",
    "    tokenizer=tokenizer,\n",
    "    json_schema=person,\n",
    "    prompt=\"Generate details of a person who is a student\",\n",
    "    debug=False,\n",
    ")\n",
    "\n",
    "print(\"Generating...\")\n",
    "output = builder()\n",
    "\n",
    "highlight_values(output)\n"
   ]
  },
  {
   "cell_type": "code",
   "execution_count": 6,
   "metadata": {},
   "outputs": [
    {
     "name": "stdout",
     "output_type": "stream",
     "text": [
      "Jsonformer: True\n"
     ]
    }
   ],
   "source": [
    "## Jsonformer\n",
    "print(f\"Jsonformer: {isinstance(output, dict)}\")"
   ]
  },
  {
   "cell_type": "code",
   "execution_count": 7,
   "metadata": {},
   "outputs": [
    {
     "name": "stdout",
     "output_type": "stream",
     "text": [
      "GPT-2: {\"name\": \"name\",\"age\": 201}\n"
     ]
    },
    {
     "data": {
      "text/plain": [
       "{'name': 'name', 'age': 201}"
      ]
     },
     "execution_count": 7,
     "metadata": {},
     "output_type": "execute_result"
    }
   ],
   "source": [
    "## GPT-2\n",
    "import json\n",
    "json_string = result_GPT[len(prompt_GPT):]\n",
    "print(f\"GPT-2: {json_string}\")\n",
    "json.loads(result_GPT[len(prompt_GPT):])\n",
    "# It works!!"
   ]
  },
  {
   "attachments": {},
   "cell_type": "markdown",
   "metadata": {},
   "source": [
    "### Post-mortem\n",
    "- Really bad LLMs (i.e. in the way GPT-2 is worse than GPT-3) are better for testing since they are less likely to \"obey\" JSON schema, or any other structure. So your code has to be more robust to account for it. For example, GPT-4 might not need any of the additional code I wrote to handle the LLMs' output.\n",
    "- You can enforce any output structure in the same way I have done here.\n",
    "- Batch processing output could is more complicated as you may have the output sequences building at different rates. "
   ]
  }
 ],
 "metadata": {
  "kernelspec": {
   "display_name": "myenv",
   "language": "python",
   "name": "python3"
  },
  "language_info": {
   "codemirror_mode": {
    "name": "ipython",
    "version": 3
   },
   "file_extension": ".py",
   "mimetype": "text/x-python",
   "name": "python",
   "nbconvert_exporter": "python",
   "pygments_lexer": "ipython3",
   "version": "3.9.12"
  },
  "orig_nbformat": 4,
  "vscode": {
   "interpreter": {
    "hash": "397512a1e9b6ad9b478c8adba556e03f652d7616bdd58236c16893333682594b"
   }
  }
 },
 "nbformat": 4,
 "nbformat_minor": 2
}
